{
 "cells": [
  {
   "cell_type": "code",
   "execution_count": 18,
   "metadata": {},
   "outputs": [
    {
     "name": "stdout",
     "output_type": "stream",
     "text": [
      "[[wikidata:Q26334949]]\n",
      "Q26334949\n"
     ]
    }
   ],
   "source": [
    "import pywikibot\n",
    "\n",
    "site = pywikibot.Site(\"en\", \"wikipedia\")\n",
    "page = pywikibot.Page(site, \"Marshmello\")\n",
    "item = pywikibot.ItemPage.fromPage(page)\n",
    "\n",
    "print(item)\n",
    "\n",
    "print(code)\n"
   ]
  },
  {
   "cell_type": "code",
   "execution_count": 11,
   "metadata": {},
   "outputs": [
    {
     "name": "stdout",
     "output_type": "stream",
     "text": [
      "dict_keys(['labels', 'descriptions', 'aliases', 'claims', 'sitelinks'])\n"
     ]
    }
   ],
   "source": [
    "item_dict = item.get()\n",
    "\n",
    "print(item_dict.keys())"
   ]
  },
  {
   "cell_type": "code",
   "execution_count": 91,
   "metadata": {},
   "outputs": [
    {
     "ename": "KeyError",
     "evalue": "'P2067'",
     "output_type": "error",
     "traceback": [
      "\u001b[1;31m---------------------------------------------------------------------------\u001b[0m",
      "\u001b[1;31mKeyError\u001b[0m                                  Traceback (most recent call last)",
      "\u001b[1;32mc:\\Users\\mok_z\\Documents\\GitHub\\FindArtists\\TEST FILE.ipynb Cell 3\u001b[0m in \u001b[0;36m<cell line: 10>\u001b[1;34m()\u001b[0m\n\u001b[0;32m      <a href='vscode-notebook-cell:/c%3A/Users/mok_z/Documents/GitHub/FindArtists/TEST%20FILE.ipynb#W2sZmlsZQ%3D%3D?line=7'>8</a>\u001b[0m item_dict \u001b[39m=\u001b[39m item\u001b[39m.\u001b[39mget() \u001b[39m#Get the item dictionary\u001b[39;00m\n\u001b[0;32m      <a href='vscode-notebook-cell:/c%3A/Users/mok_z/Documents/GitHub/FindArtists/TEST%20FILE.ipynb#W2sZmlsZQ%3D%3D?line=8'>9</a>\u001b[0m clm_dict \u001b[39m=\u001b[39m item_dict[\u001b[39m\"\u001b[39m\u001b[39mclaims\u001b[39m\u001b[39m\"\u001b[39m] \u001b[39m# Get the claim dictionary\u001b[39;00m\n\u001b[1;32m---> <a href='vscode-notebook-cell:/c%3A/Users/mok_z/Documents/GitHub/FindArtists/TEST%20FILE.ipynb#W2sZmlsZQ%3D%3D?line=9'>10</a>\u001b[0m clm_list \u001b[39m=\u001b[39m clm_dict[\u001b[39m\"\u001b[39;49m\u001b[39mP2067\u001b[39;49m\u001b[39m\"\u001b[39;49m]\n\u001b[0;32m     <a href='vscode-notebook-cell:/c%3A/Users/mok_z/Documents/GitHub/FindArtists/TEST%20FILE.ipynb#W2sZmlsZQ%3D%3D?line=10'>11</a>\u001b[0m associated_labels \u001b[39m=\u001b[39m []\n\u001b[0;32m     <a href='vscode-notebook-cell:/c%3A/Users/mok_z/Documents/GitHub/FindArtists/TEST%20FILE.ipynb#W2sZmlsZQ%3D%3D?line=11'>12</a>\u001b[0m \u001b[39mfor\u001b[39;00m clm \u001b[39min\u001b[39;00m clm_list:\n",
      "File \u001b[1;32m~\\AppData\\Local\\Packages\\PythonSoftwareFoundation.Python.3.9_qbz5n2kfra8p0\\LocalCache\\local-packages\\Python39\\site-packages\\pywikibot\\page\\_collections.py:224\u001b[0m, in \u001b[0;36mClaimCollection.__getitem__\u001b[1;34m(self, key)\u001b[0m\n\u001b[0;32m    223\u001b[0m \u001b[39mdef\u001b[39;00m \u001b[39m__getitem__\u001b[39m(\u001b[39mself\u001b[39m, key):\n\u001b[1;32m--> 224\u001b[0m     \u001b[39mreturn\u001b[39;00m \u001b[39mself\u001b[39;49m\u001b[39m.\u001b[39;49m_data[key]\n",
      "\u001b[1;31mKeyError\u001b[0m: 'P2067'"
     ]
    }
   ],
   "source": [
    "import json\n",
    "import pandas\n",
    "\n",
    "site = pywikibot.Site(\"wikidata\", \"wikidata\")\n",
    "repo = site.data_repository()\n",
    "item = pywikibot.ItemPage(repo, \"Q26334949\")\n",
    "\n",
    "item_dict = item.get() #Get the item dictionary\n",
    "clm_dict = item_dict[\"claims\"] # Get the claim dictionary\n",
    "clm_list = clm_dict[\"P2067\"]\n",
    "associated_labels = []\n",
    "for clm in clm_list:\n",
    "    clm_trgt = clm.getTarget()\n",
    "    print(clm_trgt)\n",
    "    print(dir(clm_trgt))\n",
    "    timestamp = clm_trgt.toTimestamp()\n",
    "    timestring = str(timestamp)\n",
    "    date_split = timestring.split('T')\n",
    "    date = date_split[0]\n",
    "    print(date)\n",
    "    \n",
    "print(associated_labels)\n",
    "    #for label in labels:\n",
    "        #print(label)\n",
    "        #name = name_language['value']\n",
    "        #print(name)\n",
    "    #print(type(clm_trgt))\n",
    "    #print(dir(clm_trgt))"
   ]
  }
 ],
 "metadata": {
  "kernelspec": {
   "display_name": "Python 3",
   "language": "python",
   "name": "python3"
  },
  "language_info": {
   "codemirror_mode": {
    "name": "ipython",
    "version": 3
   },
   "file_extension": ".py",
   "mimetype": "text/x-python",
   "name": "python",
   "nbconvert_exporter": "python",
   "pygments_lexer": "ipython3",
   "version": "3.9.13"
  },
  "orig_nbformat": 4,
  "vscode": {
   "interpreter": {
    "hash": "37845e238ce61423d6d4685b6910568f1589e5880dd333d63546d41ad9fcc378"
   }
  }
 },
 "nbformat": 4,
 "nbformat_minor": 2
}
