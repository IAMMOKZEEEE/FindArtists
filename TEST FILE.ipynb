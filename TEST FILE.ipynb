{
 "cells": [
  {
   "cell_type": "code",
   "execution_count": 3,
   "metadata": {},
   "outputs": [
    {
     "name": "stdout",
     "output_type": "stream",
     "text": [
      "[[wikidata:Q26334949]]\n"
     ]
    }
   ],
   "source": [
    "import pywikibot\n",
    "\n",
    "site = pywikibot.Site(\"en\", \"wikipedia\")\n",
    "page = pywikibot.Page(site, \"Marshmello\")\n",
    "item = pywikibot.ItemPage.fromPage(page)\n",
    "\n",
    "print(item)\n"
   ]
  },
  {
   "cell_type": "code",
   "execution_count": 4,
   "metadata": {},
   "outputs": [
    {
     "name": "stdout",
     "output_type": "stream",
     "text": [
      "dict_keys(['labels', 'descriptions', 'aliases', 'claims', 'sitelinks'])\n"
     ]
    }
   ],
   "source": [
    "item_dict = item.get()\n",
    "\n",
    "print(item_dict.keys())"
   ]
  },
  {
   "cell_type": "code",
   "execution_count": 12,
   "metadata": {},
   "outputs": [
    {
     "name": "stdout",
     "output_type": "stream",
     "text": [
      "[[wikidata:Q4040718]]\n"
     ]
    },
    {
     "ename": "KeyError",
     "evalue": "'P2067'",
     "output_type": "error",
     "traceback": [
      "\u001b[0;31m---------------------------------------------------------------------------\u001b[0m",
      "\u001b[0;31mKeyError\u001b[0m                                  Traceback (most recent call last)",
      "\u001b[1;32m/Users/charliemarshall/Documents/GitHub/FindArtists/FindArtists/TEST FILE.ipynb Cell 3\u001b[0m in \u001b[0;36m<cell line: 14>\u001b[0;34m()\u001b[0m\n\u001b[1;32m     <a href='vscode-notebook-cell:/Users/charliemarshall/Documents/GitHub/FindArtists/FindArtists/TEST%20FILE.ipynb#W2sZmlsZQ%3D%3D?line=11'>12</a>\u001b[0m item_dict \u001b[39m=\u001b[39m item\u001b[39m.\u001b[39mget() \u001b[39m#Get the item dictionary\u001b[39;00m\n\u001b[1;32m     <a href='vscode-notebook-cell:/Users/charliemarshall/Documents/GitHub/FindArtists/FindArtists/TEST%20FILE.ipynb#W2sZmlsZQ%3D%3D?line=12'>13</a>\u001b[0m clm_dict \u001b[39m=\u001b[39m item_dict[\u001b[39m\"\u001b[39m\u001b[39mclaims\u001b[39m\u001b[39m\"\u001b[39m] \u001b[39m# Get the claim dictionary\u001b[39;00m\n\u001b[0;32m---> <a href='vscode-notebook-cell:/Users/charliemarshall/Documents/GitHub/FindArtists/FindArtists/TEST%20FILE.ipynb#W2sZmlsZQ%3D%3D?line=13'>14</a>\u001b[0m clm_list \u001b[39m=\u001b[39m clm_dict[\u001b[39m\"\u001b[39;49m\u001b[39mP2067\u001b[39;49m\u001b[39m\"\u001b[39;49m]\n\u001b[1;32m     <a href='vscode-notebook-cell:/Users/charliemarshall/Documents/GitHub/FindArtists/FindArtists/TEST%20FILE.ipynb#W2sZmlsZQ%3D%3D?line=14'>15</a>\u001b[0m associated_labels \u001b[39m=\u001b[39m []\n\u001b[1;32m     <a href='vscode-notebook-cell:/Users/charliemarshall/Documents/GitHub/FindArtists/FindArtists/TEST%20FILE.ipynb#W2sZmlsZQ%3D%3D?line=15'>16</a>\u001b[0m \u001b[39mfor\u001b[39;00m clm \u001b[39min\u001b[39;00m clm_list:\n",
      "File \u001b[0;32m~/opt/anaconda3/lib/python3.9/site-packages/pywikibot/page/_collections.py:224\u001b[0m, in \u001b[0;36mClaimCollection.__getitem__\u001b[0;34m(self, key)\u001b[0m\n\u001b[1;32m    223\u001b[0m \u001b[39mdef\u001b[39;00m \u001b[39m__getitem__\u001b[39m(\u001b[39mself\u001b[39m, key):\n\u001b[0;32m--> 224\u001b[0m     \u001b[39mreturn\u001b[39;00m \u001b[39mself\u001b[39;49m\u001b[39m.\u001b[39;49m_data[key]\n",
      "\u001b[0;31mKeyError\u001b[0m: 'P2067'"
     ]
    }
   ],
   "source": [
    "import json\n",
    "import pandas\n",
    "\n",
    "ids = ['Q4040718']\n",
    "id = \n",
    "\n",
    "site = pywikibot.Site(\"wikidata\", \"wikidata\")\n",
    "repo = site.data_repository()\n",
    "item = pywikibot.ItemPage(repo, id)\n",
    "item_dict = item.get()\n",
    "print(item)\n",
    "\n",
    "item_dict = item.get() #Get the item dictionary\n",
    "clm_dict = item_dict[\"claims\"] # Get the claim dictionary\n",
    "clm_list = clm_dict[\"P2067\"]\n",
    "associated_labels = []\n",
    "for clm in clm_list:\n",
    "    clm_trgt = clm.getTarget()\n",
    "    print(clm_trgt)\n",
    "    print(dir(clm_trgt))\n",
    "    timestamp = clm_trgt.toTimestamp()\n",
    "    timestring = str(timestamp)\n",
    "    date_split = timestring.split('T')\n",
    "    date = date_split[0]\n",
    "    print(date)\n",
    "    \n",
    "print(associated_labels)\n",
    "    #for label in labels:\n",
    "        #print(label)\n",
    "        #name = name_language['value']\n",
    "        #print(name)\n",
    "    #print(type(clm_trgt))\n",
    "    #print(dir(clm_trgt))"
   ]
  }
 ],
 "metadata": {
  "kernelspec": {
   "display_name": "base",
   "language": "python",
   "name": "python3"
  },
  "language_info": {
   "codemirror_mode": {
    "name": "ipython",
    "version": 3
   },
   "file_extension": ".py",
   "mimetype": "text/x-python",
   "name": "python",
   "nbconvert_exporter": "python",
   "pygments_lexer": "ipython3",
   "version": "3.9.12"
  },
  "orig_nbformat": 4,
  "vscode": {
   "interpreter": {
    "hash": "7c5f62e317e42b09000eb0ccdabf25d7e4d3bf201220484be02ae39a585e4759"
   }
  }
 },
 "nbformat": 4,
 "nbformat_minor": 2
}
